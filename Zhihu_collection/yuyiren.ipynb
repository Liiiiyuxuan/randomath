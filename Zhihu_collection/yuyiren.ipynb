{
 "cells": [
  {
   "cell_type": "markdown",
   "metadata": {},
   "source": [
    "This is a collection of integral answered by yuyiren on Zhihu.com\n",
    "\n",
    "Here is the link: https://www.zhihu.com/people/yu-yiren-62"
   ]
  },
  {
   "cell_type": "markdown",
   "metadata": {},
   "source": [
    "- - -"
   ]
  },
  {
   "cell_type": "markdown",
   "metadata": {},
   "source": [
    "#### Prove that $e > \\sqrt{7}$. \n",
    "\n",
    "<details>\n",
    "\n",
    "<summary>Proof:</summary>\n",
    "\n",
    "We have \n",
    "\\begin{align*}\n",
    "    e^2 = \\sum_{n = 0}^\\infty \\frac{2^n}{n!} > \\sum_{n = 0}^4 \\frac{2^n}{n!} = 7\n",
    "\\end{align*}\n",
    "\n",
    "$\\square$\n",
    "\n",
    "</details>"
   ]
  },
  {
   "cell_type": "markdown",
   "metadata": {},
   "source": [
    "- - -"
   ]
  },
  {
   "cell_type": "markdown",
   "metadata": {},
   "source": [
    "#### Show whether $e^\\pi > \\pi^e$ or $\\pi^e > e^\\pi$. \n",
    "\n",
    "_proof:_ \n",
    "\n",
    "Recall that we have $e^x > x + 1$ for $x > 0$. Hence \n",
    "\\begin{align*}\n",
    "    e^\\pi = e^e \\left( e^{\\frac{\\pi}{e} - 1} \\right)^e > e^e \\left( \\frac{\\pi}{e} - 1 + 1 \\right)^e = \\pi^e\n",
    "\\end{align*}\n",
    "\n",
    "$\\square$"
   ]
  },
  {
   "cell_type": "markdown",
   "metadata": {},
   "source": [
    "- - -"
   ]
  },
  {
   "cell_type": "markdown",
   "metadata": {},
   "source": [
    "#### Find two irrational numbers $a$ and $b$ such that $a^b$ is a rational number. \n",
    "\n",
    "_Solution:_\n",
    " \n",
    "Consider $\\sqrt{2}^{\\sqrt{2}}$, if this is a rational, we are done. Else if it is not, then take \n",
    "\\begin{align*}\n",
    "    a = \\sqrt{2}^{\\sqrt{2}} \\qquad \\text{ and } \\qquad b = \\sqrt{2}\n",
    "\\end{align*}\n",
    "\n",
    "$\\square$"
   ]
  },
  {
   "cell_type": "markdown",
   "metadata": {},
   "source": [
    "- - -"
   ]
  },
  {
   "cell_type": "markdown",
   "metadata": {},
   "source": [
    "#### Integrate $\\displaystyle \\int \\left( 1 + x - \\frac{1}{x} \\right) e^{x + \\frac{1}{x}} dx$\n",
    "\n",
    "_Solution:_ \n",
    "\n",
    "We simply have \n",
    "\\begin{align*}\n",
    "    \\int \\left( 1 + x - \\frac{1}{x} \\right) e^{x + \\frac{1}{x}} dx\n",
    "    & = \\int x \\left( 1 - \\frac{1}{x^2} \\right) e^{x + \\frac{1}{x}} dx + \\int e^{x + \\frac{1}{x}} dx \\\\ \n",
    "    & = \\int x d e^{x + \\frac{1}{x}} + \\int e^{x + \\frac{1}{x}} dx \\\\ \n",
    "    & = x e^{x + \\frac{1}{x}} + C\n",
    "\\end{align*}\n",
    "as desired. $\\square$"
   ]
  },
  {
   "cell_type": "markdown",
   "metadata": {},
   "source": [
    "- - -"
   ]
  },
  {
   "cell_type": "markdown",
   "metadata": {},
   "source": [
    "#### Prove that $n^5 \\equiv n \\pmod{10}$ for any $n \\in \\mathbb{N}$ \n",
    "\n",
    "_Proof:_ \n",
    "\n",
    "Easy to notice that we have \n",
    "\\begin{align*}\n",
    "    n^5 - n = (n-1)n(n+1)(n+2)(n+3) - 5n(n-1)(n+1)^2\n",
    "\\end{align*}\n",
    "\n",
    "$\\square$"
   ]
  },
  {
   "cell_type": "markdown",
   "metadata": {},
   "source": [
    "- - -"
   ]
  },
  {
   "cell_type": "markdown",
   "metadata": {},
   "source": [
    "#### Compare $199^{200}$ and $200^{199}$\n",
    "\n",
    "_Solution:_ \n",
    "\n",
    "Notice that we have \n",
    "\\begin{align*}\n",
    "    200^{199} \n",
    "    & = \\underbrace{200 \\times \\cdots \\times 200}_{198 \\text{ terms}} \\times 100 \\times 2 \\\\ \n",
    "    & < \\left( \\frac{\\underbrace{200 + \\cdots + 200}_{198 \\text{ terms}} + 100 + 2}{200} \\right)^{200} \\\\ \n",
    "    & < 199^{200}\n",
    "\\end{align*}\n",
    "\n",
    "$\\square$"
   ]
  },
  {
   "cell_type": "markdown",
   "metadata": {},
   "source": [
    "- - -"
   ]
  },
  {
   "cell_type": "markdown",
   "metadata": {},
   "source": [
    "#### Prove that for $0 < x < \\pi/2$, we have $\\sin \\sin x < \\cos \\cos x$\n",
    "\n",
    "We have \n",
    "\\begin{align*}\n",
    "    \\sin x + \\cos x \\leq \\sqrt{2} < \\frac{\\pi}{2}\n",
    "\\end{align*}\n",
    "So we have \n",
    "\\begin{align*}\n",
    "    \\sin x < \\frac{\\pi}{2} - \\cos x\n",
    "\\end{align*}\n",
    "where $\\sin x$ and $\\pi/2 - \\cos x$ are both in $(0, \\pi/2)$. Therefore, \n",
    "\\begin{align*}\n",
    "    \\sin \\sin x < \\sin \\left( \\frac{\\pi}{2} - \\cos x \\right) = \\cos \\cos x\n",
    "\\end{align*}\n",
    "\n",
    "$\\square$"
   ]
  },
  {
   "cell_type": "markdown",
   "metadata": {},
   "source": [
    "- - -"
   ]
  },
  {
   "cell_type": "markdown",
   "metadata": {},
   "source": [
    "#### Given $a, b \\in \\mathbb{R}$ with $a, b > 1$. Find the minimum value $\\displaystyle \\frac{b^2}{a - 1} + \\frac{a^2}{b - 1}$ can take. \n",
    "\n",
    "_Solution:_\n",
    "\n",
    "Define $x := a - 1 > 0$ and $y := b - 1 > 0$, we have \n",
    "\\begin{align*}\n",
    "    \\frac{b^2}{a - 1} + \\frac{a^2}{b - 1}\n",
    "    & = \\frac{1}{x} + \\frac{1}{y} + \\frac{x}{y} + \\frac{x}{y} + \\frac{y}{x} + \\frac{y}{x} + \\frac{x^2}{y} + \\frac{y^2}{x} \\\\ \n",
    "    & \\geq 8 \\sqrt[8]{ \\frac{1}{x} \\cdot \\frac{1}{y} \\cdot \\frac{x}{y} \\cdot \\frac{x}{y} \\cdot \\frac{y}{x} \\cdot \\frac{y}{x} \\cdot \\frac{x^2}{y} \\cdot \\frac{y^2}{x} } \\\\ \n",
    "    & = 8 \n",
    "\\end{align*}\n",
    "\n",
    "$\\square$"
   ]
  },
  {
   "cell_type": "markdown",
   "metadata": {},
   "source": [
    "- - -"
   ]
  },
  {
   "cell_type": "markdown",
   "metadata": {},
   "source": [
    "#### Prove that $\\ln(1 + \\sqrt{2}) > \\sqrt{2} / 2$\n",
    "\n",
    "We simply have \n",
    "\\begin{align*}\n",
    "    \\ln(1 + \\sqrt{2})\n",
    "    & = \\int_0^{\\sqrt{2}} \\frac{dx}{1 + x} \\\\ \n",
    "    & = \\int_0^{\\sqrt{2}/2} \\frac{dx}{1 + x} + \\int_{\\sqrt{2}/2}^{\\sqrt{2}} \\frac{dx}{1 + x} \\\\ \n",
    "    & > \\int_0^{\\sqrt{2}/2} \\frac{dx}{1 + \\sqrt{2}/2} + \\int_{\\sqrt{2}/2}^{\\sqrt{2}} \\frac{dx}{1 + x\\sqrt{2}} = \\frac{\\sqrt{2}}{2}\n",
    "\\end{align*}\n",
    "\n",
    "$\\square$"
   ]
  },
  {
   "cell_type": "markdown",
   "metadata": {},
   "source": [
    "- - -"
   ]
  },
  {
   "cell_type": "markdown",
   "metadata": {},
   "source": [
    "#### Prove that $\\displaystyle \\left( 1 + \\frac{1}{3} \\right)\\left( 1 + \\frac{1}{3^2} \\right) \\cdots \\left( 1 + \\frac{1}{3^n} \\right) < \\sqrt{e}$ \n",
    "\n",
    "_Solution:_ \n",
    "\n",
    "We have \n",
    "\\begin{align*}\n",
    "    \\prod_{k = 1}^n \\left( 1 + \\frac{1}{3^k} \\right) \n",
    "    & \\leq \\left[ \\frac{1}{n} \\sum_{k = 1}^n \\left( 1 + \\frac{1}{3^k} \\right) \\right]^n \\\\ \n",
    "    & = \\left[ 1 + \\frac{1}{n} \\sum_{k = 1}^n \\frac{1}{3^k}  \\right]^n \\\\ \n",
    "    & \\leq \\left[ 1 + \\frac{1}{n} \\sum_{k = 1}^\\infty \\frac{1}{3^k}  \\right]^n \\\\ \n",
    "    & = \\left[ \\left( 1 + \\frac{1}{2n} \\right)^{2n} \\right]^{1/2} \\\\ \n",
    "    & \\leq e^{1/2}\n",
    "\\end{align*}\n",
    "\n",
    "$\\square$"
   ]
  }
 ],
 "metadata": {
  "language_info": {
   "name": "python"
  }
 },
 "nbformat": 4,
 "nbformat_minor": 2
}
