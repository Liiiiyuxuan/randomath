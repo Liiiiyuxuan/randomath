{
 "cells": [
  {
   "cell_type": "markdown",
   "metadata": {},
   "source": [
    "Suppose two smart players, Anna and Bob, are playing a game which has rules as following: \n",
    "\n",
    "* There are $n$ piles of stons in front of them; \n",
    "* There are $a_i$ stones in the $i$-th pile for $i \\in [n]$; \n",
    "* Each player pick one of the pile and take away a number (strictly positive) of stones; \n",
    "* The player who does not have stones to pick loses;\n",
    "* Anna plays first. "
   ]
  },
  {
   "cell_type": "markdown",
   "metadata": {},
   "source": [
    "<font color=orange>Now the problem is, given $n$ piles each with $a_1, a_2, \\ldots, a_n$ numbers of stones in each pile respectively, which player has a winning strategy given both of them use optimal decisions.</font>"
   ]
  },
  {
   "cell_type": "markdown",
   "metadata": {},
   "source": [
    "We first consider several easy examples: \n",
    "\n",
    "| **Scenario** | Anna | Bob | Strategy |\n",
    "|-|-|-|-|\n",
    "| no stone | loses|wins | no strategy |\n",
    "| one pile of stones| wins | loses | Anna takes away all the stons |\n",
    "| two piles of stones of same size | loses | wins | Bob repeats what Anna does in the other pile of stones |\n",
    "| two piles of stones of different size | wins | loses | Bob takes away stones from the bigger pile to reduce the problem into the scenario described above |"
   ]
  },
  {
   "cell_type": "markdown",
   "metadata": {},
   "source": [
    "Therefore, we have found the following pattern: \n",
    "\n",
    "1. If there is no stone, then first player loses; \n",
    "\n",
    "2. If all the following scenarios are winnable for the first player in that round, then the first player in the current round loses; \n",
    "\n",
    "3. If there exists a next scenario where the first player loses, then the first player in the current round wins. "
   ]
  },
  {
   "cell_type": "markdown",
   "metadata": {},
   "source": [
    "> Now we are able to brute force finding the result recursively using deep first search, (see more in the <font color=cyan>_nim_game_1.py_</font> file), but this is undoubtly bad. For instance, for the case with piles [5, 3, 6], taking 1 from 5 and then 2 from 3 is the same as taking 2 from 3 and then 1 from 5. "
   ]
  },
  {
   "cell_type": "markdown",
   "metadata": {},
   "source": [
    "> Therefore, we can use hash: see more in <font color=cyan>_nim_game_2.py_</font>. "
   ]
  },
  {
   "cell_type": "markdown",
   "metadata": {},
   "source": []
  }
 ],
 "metadata": {
  "language_info": {
   "name": "python"
  }
 },
 "nbformat": 4,
 "nbformat_minor": 2
}
