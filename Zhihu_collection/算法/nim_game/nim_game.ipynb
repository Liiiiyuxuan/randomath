{
 "cells": [
  {
   "cell_type": "markdown",
   "metadata": {},
   "source": [
    "Suppose two smart players, Anna and Bob, are playing a game which has rules as following: \n",
    "\n",
    "* There are $n$ piles of stons in front of them; \n",
    "* There are $a_i$ stones in the $i$-th pile for $i \\in [n]$; \n",
    "* Each player pick one of the pile and take away a number (strictly positive) of stones; \n",
    "* The player who does not have stones to pick loses;\n",
    "* Anna plays first. "
   ]
  },
  {
   "cell_type": "markdown",
   "metadata": {},
   "source": [
    "<font color=orange>Now the problem is, given $n$ piles each with $a_1, a_2, \\ldots, a_n$ numbers of stones in each pile respectively, which player has a winning strategy given both of them use optimal decisions.</font>"
   ]
  },
  {
   "cell_type": "markdown",
   "metadata": {},
   "source": [
    "We first consider several easy examples: \n",
    "\n",
    "| **Scenario** | Anna | Bob | Strategy |\n",
    "|-|-|-|-|\n",
    "| no stone | loses|wins | no strategy |\n",
    "| one pile of stones| wins | loses | Anna takes away all the stons |\n",
    "| two piles of stones of same size | loses | wins | Bob repeats what Anna does in the other pile of stones |\n",
    "| two piles of stones of different size | wins | loses | Bob takes away stones from the bigger pile to reduce the problem into the scenario described above |"
   ]
  },
  {
   "cell_type": "markdown",
   "metadata": {},
   "source": [
    "Therefore, we have found the following pattern: \n",
    "\n",
    "1. If there is no stone, then first player loses; \n",
    "\n",
    "2. If all the following scenarios are winnable for the first player in that round, then the first player in the current round loses; \n",
    "\n",
    "3. If there exists a next scenario where the first player loses, then the first player in the current round wins. "
   ]
  },
  {
   "cell_type": "markdown",
   "metadata": {},
   "source": [
    "> Now we are able to brute force finding the result recursively using deep first search, (see more in the <font color=cyan>_nim_game_1.py_</font> file), but this is undoubtly bad. For instance, for the case with piles [5, 3, 6], taking 1 from 5 and then 2 from 3 is the same as taking 2 from 3 and then 1 from 5. "
   ]
  },
  {
   "cell_type": "markdown",
   "metadata": {},
   "source": [
    "> Therefore, we can use hash: see more in <font color=cyan>_nim_game_2.py_</font>. \n",
    "\n",
    "Here, the complexity is \n",
    "\\begin{align*}\n",
    "    O \\left( n \\prod_i a_i \\right)\n",
    "\\end{align*}"
   ]
  },
  {
   "cell_type": "markdown",
   "metadata": {},
   "source": [
    "- - -"
   ]
  },
  {
   "cell_type": "markdown",
   "metadata": {},
   "source": [
    "### Bitwise-xor"
   ]
  },
  {
   "cell_type": "markdown",
   "metadata": {},
   "source": [
    "Recall that xor satisfies the following: \n",
    "\n",
    "|xor | 0 | 1 |\n",
    "|-   |-  |-  |\n",
    "| 0  | 0 | 1 |\n",
    "| 1  | 1 | 0 |\n",
    "\n",
    "and bitwise-xor is a function $\\oplus : (\\mathbb{Z})_2 \\times (\\mathbb{Z})_2 \\to (\\mathbb{Z})_2$ defined by: \n",
    "\\begin{align*}\n",
    "    \\oplus(x, y) = (x_{n-1} \\mathrm{ \\;xor\\; } y_{n-1}, \\ldots, x_0 \\mathrm{ \\;xor\\; } y_0)_2\n",
    "\\end{align*}\n",
    "For instance, $5 = (101)_2$ and $3 = (011)_2$, so we have \n",
    "\\begin{align*}\n",
    "    \\oplus((101)_2, (011)_2) & = (110)_2 \\\\ \n",
    "    \\Rightarrow \\;\\;\\;\\; \\oplus(5, 3) & = 6\n",
    "\\end{align*}"
   ]
  },
  {
   "cell_type": "markdown",
   "metadata": {},
   "source": [
    "Notice that if $x = y$, then $\\oplus(x, y) = 0$, and $\\oplus(x, 0) = x$. "
   ]
  },
  {
   "cell_type": "markdown",
   "metadata": {},
   "source": [
    "Here we introduce a theorem: "
   ]
  },
  {
   "cell_type": "markdown",
   "metadata": {},
   "source": [
    "### ***First player wins if and only if***\n",
    "\n",
    "\\begin{align*}\n",
    "    a_1 \\oplus a_2 \\oplus \\cdots \\oplus a_n \\neq 0 \n",
    "\\end{align*}\n"
   ]
  },
  {
   "cell_type": "markdown",
   "metadata": {},
   "source": [
    "> Proof: \n",
    "\n",
    "1. > Case 1\n",
    "\n",
    "    1 If there is no stones, so $a_1 = a_2 = \\cdots = a_n = 0$, hence \n",
    "\\begin{align*}\n",
    "    a_1 \\oplus a_2 \\oplus \\cdots \\oplus a_n \\neq 0 \n",
    "\\end{align*}\n",
    "    and first player loses. \n",
    "\n",
    "2. > Case 2\n",
    "\n",
    "    If $a_1 \\oplus a_2 \\oplus \\cdots \\oplus a_n = 0$ and there exists $i$ such that $a_i > 0$, then taking away stones from any non-empty pile results in the change of the bitwise xor evaluation. In particular, the following player has the scenario where \n",
    "\\begin{align*}\n",
    "    a_1 \\oplus a_2 \\oplus \\cdots \\oplus a_n \\neq 0 \n",
    "\\end{align*}\n",
    "    which implies that that player has a winning strategy. Hence the current player loses the game. \n",
    "\n",
    "3. > Case 3\n",
    "\n",
    "    If $a := a_1 \\oplus a_2 \\oplus \\cdots \\oplus a_n \\neq 0$, consider the index $j$ such that $j$ is the largest index where the $j$-th index of $a$ is 1. Find $k$ such that $a_k$ has the $j$-th index also being 1. We know that such index $k$ exists because otherwise $j$ cannot exist. Now for all the indices such that the corresponding positions in $a$ are non-zero, we flip all of them in $a_k$. We know this is valid since the value of $a_k$ reduces, and this would result in the bitwise xor evaluation to be 0, which implies that the next player loses. \n",
    "\n",
    "$\\square$"
   ]
  },
  {
   "cell_type": "markdown",
   "metadata": {},
   "source": [
    "Now we have an even faster way to check which player has a winning strategy: see more in <font color=cyan>_nim_game_3.py_</font>. \n",
    "\n",
    "Here, the complexity is \n",
    "\\begin{align*}\n",
    "    O(n)\n",
    "\\end{align*}"
   ]
  },
  {
   "cell_type": "markdown",
   "metadata": {},
   "source": [
    "- - -"
   ]
  },
  {
   "cell_type": "markdown",
   "metadata": {},
   "source": [
    "Sprague–Grundy"
   ]
  }
 ],
 "metadata": {
  "language_info": {
   "name": "python"
  }
 },
 "nbformat": 4,
 "nbformat_minor": 2
}
