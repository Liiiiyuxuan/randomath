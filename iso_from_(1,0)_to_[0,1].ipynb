{
 "cells": [
  {
   "cell_type": "markdown",
   "metadata": {},
   "source": [
    "Consider the map $f : [0, 1] \\to (0, 1)$: \n",
    "\\begin{align*}\n",
    "    f(x) = \\begin{cases}\n",
    "        \\frac{1}{2} & \\text{ if } x = 0 \\\\ \n",
    "        \\frac{1}{n + 1} & \\text{ if } x = \\frac{1}{n} \\text{ for } n \\in \\mathbb{N} \\\\ \n",
    "        x & \\text{ if } x \\neq 0 \\text{ and $x$ is not reciprocal of a positive integer}\n",
    "    \\end{cases}\n",
    "\\end{align*}"
   ]
  }
 ],
 "metadata": {
  "language_info": {
   "name": "python"
  }
 },
 "nbformat": 4,
 "nbformat_minor": 2
}
