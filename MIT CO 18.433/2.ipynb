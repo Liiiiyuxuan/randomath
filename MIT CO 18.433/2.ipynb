{
 "cells": [
  {
   "cell_type": "markdown",
   "metadata": {},
   "source": [
    "# Non-bipartite Matching \n",
    "\n",
    "Dec 2024"
   ]
  },
  {
   "cell_type": "markdown",
   "metadata": {},
   "source": [
    "Given any graph $G = (V, E)$, we can trivially upper bound the size of a matching of $G$ by \n",
    "\\begin{align*}\n",
    "    |M| \\leq |U| + \\sum_{i = 1}^k \\left\\lfloor \\frac{|K_i|}{2} \\right\\rfloor\n",
    "\\end{align*}\n",
    "where $U$ is any set of vertices and $K_i$ are the vertex sets of the connected components of $G \\setminus U$. \n",
    "\n",
    "If we define $o(G \\setminus U)$ to be the number of odd components of $G \\setminus U$, then we can rewrite the above inequality as \n",
    "\\begin{align*}\n",
    "    |M| & \\leq |U| + \\frac{|V| - |U|}{2} - \\frac{o(G \\setminus U)}{2} \\\\\n",
    "    \\Rightarrow \\qquad |M| & \\leq \\frac{1}{2} (|V| + |U| - o(G \\setminus U))\n",
    "\\end{align*}\n"
   ]
  },
  {
   "cell_type": "markdown",
   "metadata": {},
   "source": [
    "#### Theorem (<font color=pink>Tutte-Berge Formula</font>): ***For any graph $G = (V, E)$, we have*** \n",
    "\n",
    "\\begin{align*}\n",
    "    \\max_M |M| = \\min_{U \\subseteq V} \\frac{1}{2} (|V| + |U| - o(G \\setminus U))\n",
    "\\end{align*}\n",
    "\n",
    "#### ***where $o(G \\setminus U)$ is the number of connected components of odd size of $G \\setminus U$.***"
   ]
  },
  {
   "cell_type": "markdown",
   "metadata": {},
   "source": [
    "- - - "
   ]
  },
  {
   "cell_type": "markdown",
   "metadata": {},
   "source": [
    "#### Algorithm finding largest matching in a non-bipartite graph\n",
    "\n",
    "We find either an augmenting path or a flower, or show that no such items exist. \n",
    "\n",
    "1. If there is an augmenting path, we can have a larger matching;\n",
    "2. If there is a flower, obtain a matching of the same size by taking \n",
    "\\begin{align*}\n",
    "    M \\Delta P = (M \\setminus P) \\cup (P \\setminus M)\n",
    "\\end{align*}\n",
    "Then we create a new graph $G/B$ by shrinking $B$ into a single vertices $b$. Notice that we also have a matching $M/B$ in this new graph, with size differ by exactly $\\frac{|B| - 1}{2}$ from $M$. This is because there cannot be any matching edge $(u, v)$ with $u \\notin B$ and $v \\in B$ as all vertices in $B$ (except the one on the stem) are in $M \\cap B$. \n",
    "3. If no such items exist, the matching is already the largest;"
   ]
  },
  {
   "cell_type": "markdown",
   "metadata": {},
   "source": [
    "#### Theorem: ***Let $B$ be a blossom w.r.t. $M$, then $M$ is a maximum size matching in $G$ if and only if $M/B$ is a maximum size matching in $G/B$.***\n",
    "\n",
    "> $(\\Longrightarrow)$ \n",
    "\n",
    "If there is a matching $N$ in $G/B$ larger than $M/B$, then there exists a matching $N^+$ in $G$ exceeding $M$ by the same amoung that $N$ exceeds $M/B$. \n",
    "\n",
    "> $(\\Longleftarrow)$\n",
    "\n",
    "SFAC that $M$ is not maximum, so there exists an augmenting path from exposed vertices $u$ to $v$. Let $w$ be the first vertex of $P$ belongs to $B$, and let $Q$ be the part of $P$ from $u$ to $w$. Notice that $Q$ remains an augmenting path for $M/B$, a contradiction. "
   ]
  },
  {
   "cell_type": "markdown",
   "metadata": {},
   "source": [
    "<font color=orange>The theorem does not say that if we ﬁnd a maximum matching $M^*$ in $G/B$ then simply adding $\\frac{|B| − 1}{2}$ edges from within $B$ to $M^*$ to get $\\hat{M}$ will lead to a maximum matching in $G$. Indeed, this is not true.<font>"
   ]
  },
  {
   "cell_type": "markdown",
   "metadata": {},
   "source": [
    "#### Exercise 2-1"
   ]
  },
  {
   "cell_type": "markdown",
   "metadata": {},
   "source": [
    "- - -"
   ]
  },
  {
   "cell_type": "markdown",
   "metadata": {},
   "source": [
    "#### Algorithm finding an alternating path or a flower\n",
    "\n",
    "Label all exposed vertices to be _Even_. \n",
    "\n",
    "Consider a vertex labelled _Even_, so we would have several possibilities: \n",
    "\n",
    "1. There is an edge $(u, v)$ with $v$ unlabelled, we label $v$ as _Odd_. As $v$ cannot be exposed, we label its \"mate\" $w$ (i.e. $(v, w) \\in M$) as _Even_. \n",
    "\n",
    "2. There is an edge $(u, v)$ with $v$ labelled $v$ as _Even_ and $v$ belongs to another alternating tree. then we have found an augmenting path as their roots are two exposed vertices. \n",
    "\n",
    "3. There is an edge $(u, v)$ with $v$ labelled $v$ as _Even_ and $v$ belongs to the same tree, then they form a flower. Take the symmetric difference with its stem and shrink the blossom $B$ into a vertex $b$. Observe that we can keep our labelling unchanged provided we let the new vertex $b$ be labelled _Even_. \n",
    "\n",
    "    We recursively find a maximum matching in this graph $G/B$ and when the algo terminates, we use the above theorem to expand it to a larger matching in the original graph. But recall that this matching is not necessarily optimal. \n",
    "    \n",
    "    We repeat the process to find either an augmenting path or a flower w.r.t. the current matching. \n",
    "\n",
    "<font color=yellow> Suppose that none of these possibilities apply any more for any of the _Even_ vertices, then we have found a maximum matching $M'$ in the current graph. </font>\n",
    "\n",
    "**Running Time:**\n",
    "\n",
    "    The algorithm performs at most $n$ augmentations where $n = |V|$. Between two augmentations, it will shrink a blossom at most $n / 2$ times, as each shrinking reduces the number of vertices by at least 2. The time it takes to construct the alternating tree is at most $O(m)$ where $m = |E|$, and so the total time is $O(n^2m)$.  \n"
   ]
  },
  {
   "cell_type": "markdown",
   "metadata": {},
   "source": [
    "#### Theorem (<font color=pink>Tutte's Matching Theorem</font>): ***$G$ has a perfect matvhing if and only if, for all $U \\subseteq V$, we have $o(G \\setminus U) \\leq |U|$***. \n",
    "\n",
    "This is a result of the Tutte-Berge formula. "
   ]
  },
  {
   "cell_type": "markdown",
   "metadata": {},
   "source": [
    "- - -"
   ]
  },
  {
   "cell_type": "markdown",
   "metadata": {},
   "source": [
    "## Exercises"
   ]
  },
  {
   "cell_type": "markdown",
   "metadata": {},
   "source": [
    "#### Exercise 2-2"
   ]
  },
  {
   "cell_type": "markdown",
   "metadata": {},
   "source": [
    "#### Exercise 2-3"
   ]
  },
  {
   "cell_type": "markdown",
   "metadata": {},
   "source": [
    "#### Exercise 2-4"
   ]
  },
  {
   "cell_type": "markdown",
   "metadata": {},
   "source": [
    "#### Exercise 2-5"
   ]
  },
  {
   "cell_type": "markdown",
   "metadata": {},
   "source": [
    "#### Exercise 2-6"
   ]
  }
 ],
 "metadata": {
  "language_info": {
   "name": "python"
  }
 },
 "nbformat": 4,
 "nbformat_minor": 2
}
