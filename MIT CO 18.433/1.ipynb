{
 "cells": [
  {
   "cell_type": "markdown",
   "metadata": {},
   "source": [
    "# Bipartite Matching\n",
    "\n",
    "2024 Dec "
   ]
  },
  {
   "cell_type": "markdown",
   "metadata": {},
   "source": [
    "#### Definition: \"$M \\Delta P$\"\n",
    "\n",
    "For $M$ a matching and $P$ an augmenting path, we define \n",
    "\\begin{align*} \n",
    "    M' = M \\Delta P := (M - P) \\cup (P - M)\n",
    "\\end{align*}\n",
    "\n",
    "Our claim is that $M'$ is a new matching for the original graph with a bigger cardinality. \n",
    "\n",
    "I hope this is easy to see. To explain, observe that \n",
    "\\begin{equation*}\n",
    "    P - M\n",
    "\\end{equation*}\n",
    "is basically shfiting our matching on the path to obtain the new matching, which is one size bigger in regards to the edges in $M'$ that appears on the path $P$, while \n",
    "\\begin{equation*}\n",
    "    M - P\n",
    "\\end{equation*}\n",
    "preserves the edges that are not on the path, so we can keep the edges in the matching that are not effected when we shift. "
   ]
  },
  {
   "cell_type": "markdown",
   "metadata": {},
   "source": [
    "- - -"
   ]
  },
  {
   "cell_type": "markdown",
   "metadata": {},
   "source": [
    "#### Theorem: ***A matching $M$ is maximum if and only if there are no augmenting paths with respect to $M$.***\n",
    "\n",
    "> $[\\Longrightarrow]$\n",
    "\n",
    "Matching is maximum implies no augmenting path wrt $M$ because if there is an aumenting path then the matching cannot be maximum. \n",
    "\n",
    "> $[\\Longleftarrow]$ \n",
    "\n",
    "SFAC that $M$ is not maximum, so there exists a maximum matching $M^*$ such that \n",
    "\\begin{equation*}\n",
    "    |M^*| > |M|\n",
    "\\end{equation*}\n",
    "Define $Q = M \\Delta M^* = (M - M^*) \\cup (M^* - M)$. Then we have: \n",
    "\n",
    "* Each vertex is incident to at most one edge in $M \\cap Q$ and one edge in $M^* \\cap Q$. \n",
    "* $Q$ is composed of cycles and paths that alternate between edges from $M$ and $M^*$. \n",
    "\n",
    "This way, we know that there must exists an augmenting path $P$ with respect to $M$, which yields a contradiction. \n"
   ]
  },
  {
   "cell_type": "markdown",
   "metadata": {},
   "source": [
    "- - -"
   ]
  },
  {
   "cell_type": "markdown",
   "metadata": {},
   "source": [
    "Algorithm for Optimum Matching\n",
    "==========\n",
    "\n",
    "Start with any matching $M$, say the empty matching. Repeatedly locate an augmenting path $P$ with respect to $M$. Augment $M$ along $P$ and replace $M$ by the resulting matching. \n",
    "\n",
    "The algorithm halts when no more augmenting path exists. "
   ]
  },
  {
   "cell_type": "markdown",
   "metadata": {},
   "source": [
    "<font color=red>\n",
    "    The question now is how to decide the existence of an augmenting path and how to ﬁnd one, if one exists. \n",
    "</font>"
   ]
  },
  {
   "cell_type": "markdown",
   "metadata": {},
   "source": [
    "#### Definition: \"Directed graph $G$\"\n",
    "\n",
    "We direct edges in $G$ according to $M$ as follows: An edge goes from $A$ to $B$ if it does not belong to the matching $M$ and from $B$ to $A$ if it does. We call this directed graph $D$. \n",
    "\n",
    "Recall: $A$ and $B$ are such that $G = (A \\sqcup B, E)$. "
   ]
  },
  {
   "cell_type": "markdown",
   "metadata": {},
   "source": [
    "#### Exercise 1-1: ***There exists an augmenting path in $G$ with respect to $M$ iﬀ there exists a directed path in $D$ between an exposed vertex in $A$ and an exposed vertex in $B$***\n",
    "\n",
    "> $[\\Longrightarrow]$ \n",
    "\n",
    "If there exists an augmenting path, by the definition of an augmenting path, we know that the two ends of it are exposed. Because for the reason that augmenting path is composed of edges outside of $M$ and inside of $M$ alternatively, we know that the two exposed vertices are in $A$ and $B$ saperately. Moreover, for the same reason, this path itself is a directed path in $D$. \n",
    "\n",
    "> $[\\Longleftarrow]$\n",
    "\n",
    "It is easy to see that if there exists a directed path in $D$, then there exists (the directed path itself) an alternating path. \n",
    "\n",
    "Moreover, if the directed path in $D$ lies between an exposed vertex in $A$ and an exposed vertex in $B$, then there exists an augmenting path. "
   ]
  }
 ],
 "metadata": {
  "language_info": {
   "name": "python"
  }
 },
 "nbformat": 4,
 "nbformat_minor": 2
}
