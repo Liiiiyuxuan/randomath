{
 "cells": [
  {
   "cell_type": "markdown",
   "metadata": {},
   "source": [
    "# Bipartite Matching\n",
    "\n",
    "2024 Dec "
   ]
  },
  {
   "cell_type": "markdown",
   "metadata": {},
   "source": [
    "#### Definition: \"<font color=pink>$M \\Delta P$</font>\"\n",
    "\n",
    "For $M$ a matching and $P$ an augmenting path, we define \n",
    "\\begin{align*} \n",
    "    M' = M \\Delta P := (M - P) \\cup (P - M)\n",
    "\\end{align*}\n",
    "\n",
    "Our claim is that $M'$ is a new matching for the original graph with a bigger cardinality. \n",
    "\n",
    "I hope this is easy to see. To explain, observe that \n",
    "\\begin{equation*}\n",
    "    P - M\n",
    "\\end{equation*}\n",
    "is basically shfiting our matching on the path to obtain the new matching, which is one size bigger in regards to the edges in $M'$ that appears on the path $P$, while \n",
    "\\begin{equation*}\n",
    "    M - P\n",
    "\\end{equation*}\n",
    "preserves the edges that are not on the path, so we can keep the edges in the matching that are not effected when we shift. "
   ]
  },
  {
   "cell_type": "markdown",
   "metadata": {},
   "source": [
    "- - -"
   ]
  },
  {
   "cell_type": "markdown",
   "metadata": {},
   "source": [
    "#### Theorem: ***A matching $M$ is maximum if and only if there are no augmenting paths with respect to $M$.***\n",
    "\n",
    "> $[\\Longrightarrow]$\n",
    "\n",
    "Matching is maximum implies no augmenting path wrt $M$ because if there is an aumenting path then the matching cannot be maximum. \n",
    "\n",
    "> $[\\Longleftarrow]$ \n",
    "\n",
    "SFAC that $M$ is not maximum, so there exists a maximum matching $M^*$ such that \n",
    "\\begin{equation*}\n",
    "    |M^*| > |M|\n",
    "\\end{equation*}\n",
    "Define $Q = M \\Delta M^* = (M - M^*) \\cup (M^* - M)$. Then we have: \n",
    "\n",
    "* Each vertex is incident to at most one edge in $M \\cap Q$ and one edge in $M^* \\cap Q$. \n",
    "* $Q$ is composed of cycles and paths that alternate between edges from $M$ and $M^*$. \n",
    "\n",
    "This way, we know that there must exists an augmenting path $P$ with respect to $M$, which yields a contradiction. \n"
   ]
  },
  {
   "cell_type": "markdown",
   "metadata": {},
   "source": [
    "- - -"
   ]
  },
  {
   "cell_type": "markdown",
   "metadata": {},
   "source": [
    "Hence we can always find an augmenting path to find a bigger matching until we find the optimium matching.\n",
    "\n",
    "<font color=orange>\n",
    "    The question now is how to decide the existence of an augmenting path and how to ﬁnd one, if one exists. \n",
    "</font>"
   ]
  },
  {
   "cell_type": "markdown",
   "metadata": {},
   "source": [
    "#### Definition: \"<font color=pink>Directed graph $G$</font>\"\n",
    "\n",
    "We direct edges in $G$ according to $M$ as follows: An edge goes from $A$ to $B$ if it does not belong to the matching $M$ and from $B$ to $A$ if it does. We call this directed graph $D$. \n",
    "\n",
    "Recall: $A$ and $B$ are such that $G = (A \\sqcup B, E)$. "
   ]
  },
  {
   "cell_type": "markdown",
   "metadata": {},
   "source": [
    "#### Exercise 1-1: ***There exists an augmenting path in $G$ with respect to $M$ iﬀ there exists a directed path in $D$ between an exposed vertex in $A$ and an exposed vertex in $B$***\n",
    "\n",
    "> $[\\Longrightarrow]$ \n",
    "\n",
    "If there exists an augmenting path, by the definition of an augmenting path, we know that the two ends of it are exposed. Because for the reason that augmenting path is composed of edges outside of $M$ and inside of $M$ alternatively, we know that the two exposed vertices are in $A$ and $B$ saperately. Moreover, for the same reason, this path itself is a directed path in $D$. \n",
    "\n",
    "> $[\\Longleftarrow]$\n",
    "\n",
    "It is easy to see that if there exists a directed path in $D$, then there exists (the directed path itself) an alternating path. \n",
    "\n",
    "Moreover, if the directed path in $D$ lies between an exposed vertex in $A$ and an exposed vertex in $B$, then there exists an augmenting path. "
   ]
  },
  {
   "cell_type": "markdown",
   "metadata": {},
   "source": [
    "- - -"
   ]
  },
  {
   "cell_type": "markdown",
   "metadata": {},
   "source": [
    "Algorithm for Optimum Matching\n",
    "==========\n",
    "\n",
    "Start with any matching $M$, say the empty matching. Repeatedly locate an augmenting path $P$ with respect to $M$. Augment $M$ along $P$ and replace $M$ by the resulting matching. \n",
    "\n",
    "The algorithm halts in $\\mu$ augmentations, where $\\mu$ is the size of the maximum matching. It is clear to see tha $\\mu < \\frac{n}{2}$ where $n = |V|$. \n",
    "\n",
    "Moreover, by the above exercise, we know that we have an $O(m)$ algorithm (where $m = |E|$) for finding an augmenting path in $G$. \n",
    "\n",
    "<font color=yellow>\n",
    "    As a result, the overall complexity of findinf a maximum cardinality matching is $O(nm)$. \n",
    "</font>"
   ]
  },
  {
   "cell_type": "markdown",
   "metadata": {},
   "source": [
    "- - - "
   ]
  },
  {
   "cell_type": "markdown",
   "metadata": {},
   "source": [
    "#### Theorem: ***Define $L$ to be the set of vertices which can be reached by a directed path from an exposed vertex in $A$. Then when the algorithm terminates, $C^* = (A - L) \\cup (B \\cap L)$ is a vertex cover. Moreover, $|C^\\ast| = |M^\\ast|$ where $M^\\ast$ is the matching returned by the algorithm.***\n",
    "\n",
    "> $C^\\ast$ is a vertex cover. \n",
    "\n",
    "SFAC that $C^\\ast$ is not a vertex cover, so there exists an edge $e = (a, b)$ such that $a \\in (A \\cap L)$ and $b \\in (B - L)$. Now we have two cases: \n",
    "\n",
    "- $e \\in M$: \n",
    "    - Since the directed edge $e$ goes from $B$ to $A$, and we are given that $a \\in L$, so $b \\in L$, but this yields us a contradiction.  \n",
    "- $e \\in E - M$:\n",
    "    - In this case, $e$ is directed from $A$ to $B$, this implies that $b$ should also be in $L$ since $a$ is in $L$. This contradicts the fact that $b \\notin L$ again. \n",
    "\n",
    "Therefore we can conclude that $C^\\ast$ is a vertex cover. \n",
    "\n",
    "> $|C^\\ast| \\leq |M^\\ast|$. \n",
    "\n",
    "We observe the following: \n",
    "\n",
    "1. Since by definition of $L$, exposed vertices are automatically in $L$, thus there exists no vertex in $A - L$ that is exposed. \n",
    "2. Since vertices in $L$ are those can be reached by a directed path from an exposed vertex in $A$, so no vertex in $B \\cap L$ is exposed because otherwise there is an augmenting path and the algorithm would not have terminated. \n",
    "3. There is no edge of the matching between a $a \\in (A - L)$ and a vertex $b \\in (B \\cap L)$. \n",
    "\n",
    "Therefore, every vertex in $C^\\ast$ is matched and all the corresponding edges are distinct, Hence $|C^\\ast| \\leq |M^\\ast|$. "
   ]
  },
  {
   "cell_type": "markdown",
   "metadata": {},
   "source": [
    "- - -"
   ]
  },
  {
   "cell_type": "markdown",
   "metadata": {},
   "source": [
    "## Exercises"
   ]
  },
  {
   "cell_type": "markdown",
   "metadata": {},
   "source": [
    "#### Exercise 1-2\n",
    "\n",
    "It is easy to see that \n",
    "\\begin{equation*}\n",
    "    |R| \\leq |V| - |M^*|\n",
    "\\end{equation*}\n",
    "This is because we can first take all the edges in the maximum matching, which covers all the vertices that belongs to the maximum matching. For the rest of the vertices, we simply add an edge incident to each of them, this gives us a edge cover with cardinality $|M^\\ast| + |V| - 2 |M^\\ast| = |V| - |M^*|$. Therefore, it suffices to show that $|R| \\geq |V| - |M^*|$. \n",
    "\n",
    "We know that an edge can cover at most two vertices as this is the number of vertices it could be incident to. Therefore, to minimize the cardinality of an edge cover, we should utilize our maximum matching. For the remaining vertices that are not covered by the maximum matching, we know that there does not exist an edge covering two of them because otherwise this contradicts the fact that out matching is maximum. Therefore, we need to add one edge for each of the remaining vertices. \n",
    "\n",
    "We are now done proving our claim. "
   ]
  },
  {
   "cell_type": "markdown",
   "metadata": {},
   "source": [
    "#### Exercise 1-3\n",
    "\n",
    "Suppose we have a matching $M'$ that is less than half the size of a maximum matching $M^\\ast$, so we know that there exists at least one edge $e$ in $M^\\ast$ with both endpoints not in $M'$. This suggests that we can add $e$ to $M'$ while keeping it a matching, thus $M'$ cannot be maximum. Therefore, we know that any maximal matching is at least half the size of a maximum matching. "
   ]
  },
  {
   "cell_type": "markdown",
   "metadata": {},
   "source": [
    "#### Exercise 1-4\n",
    "\n",
    "1. Easy to see that the checkboard is two-colourable, thus bipartite. And our goal is to find a perfect tiling of a subset of the checkboard. The way a domino cover the checkboard is by covering two adjacent squares, which belong to different vertex sets in the bipartite graph. Moreover, by the rule of perfectly covering the checkboard, no two dominoes overlap with each other, so each vertex can only be used up to once. This way, it is not hard to see that this is equivalent to the problem of deciding whether a bipartite graph has a perfect matching. \n",
    "\n",
    "2. Count the number of grids in the graph, we notice that there are 42 of them, so this does not give us much information. "
   ]
  },
  {
   "cell_type": "markdown",
   "metadata": {},
   "source": [
    "#### Exercise 1-5\n",
    "\n",
    "Assume WLOG that $|A_1| \\geq |B_1|$. \n",
    "\n",
    "If the matching that covers all vertices in $A_1$, say $M$, has already covered all the vertices in $B_1$, then we are done. Hence we may assume that there exists vertex $b \\in B_1$ such that is not covered by the matching $M$. Consider the matching that cover $B_1$, specifically $b$: \n",
    "\n",
    "Denote the edge $e$ that covers $b$ in the second matching described above as $(a_b, b)$. If $a_b \\notin A_1$, then we can simply add $e$ to $M$ to obtain a matching that covers both $A_1$ and $B_1$. Else if $a_b \\in A_1$, then we use $e$ to replace the edge $e'$ in $M$ that covers $a_b$. If the other endpoint of $e'$ in $B$ is not in $B_1$, we are done. If not, we repeat the same process to that endpoint until we reach an edge that covers a vertex not in $B_1$. Note that we are guaranteed to stop eventually because we have $|A_1| \\geq |B_1|$. "
   ]
  },
  {
   "cell_type": "markdown",
   "metadata": {},
   "source": [
    "#### Exercise 1-6\n",
    "\n"
   ]
  },
  {
   "cell_type": "markdown",
   "metadata": {},
   "source": [
    "#### Theorem (<font color=pink>König 1931</font>) ***For any bipartite graph, the maximum size of a matching is equal to the minimum size of a vertex cover.***"
   ]
  },
  {
   "cell_type": "markdown",
   "metadata": {},
   "source": [
    "#### Theorem (<font color=pink>Hall 1935</font>): ***Given a bipartite graph $G = (V, E)$ with bipartition $V = A \\sqcup B$, $G$ has a matching of size |A| if and only if for every $S \\subseteq A$ we have $|N(S)| \\geq |S|$, where $N(S) = \\{b \\in B : \\exists \\; a \\in S \\text{ with } (a, b) \\in E\\}$.***"
   ]
  },
  {
   "cell_type": "markdown",
   "metadata": {},
   "source": [
    "#### Exercise 1-7\n",
    "\n",
    "It is known that any subgraph of a bipartite graph is bipartite, thus König's Theorem applies to all of them. Consider any subset $S \\subseteq A$, we know that we have $|N(S)| \\geq |S|$, so the vertex set $A$ is the minumum vertex cover that covers $A \\sqcup N(A)$ because otherwise it would contradict the fact that $|N(S)| \\geq |S|$. Therefore, there exists a matching that covers all the vertex in $A$, which implies the sufficiency of Hall's Theorem. "
   ]
  },
  {
   "cell_type": "markdown",
   "metadata": {},
   "source": [
    "#### Exercise 1-8\n",
    "\n",
    "1. \n",
    "\n",
    "We first show that why this is a generalization of the Hall's Theorem: \n",
    "\n",
    "We know that for all $S \\subseteq A$, we have $|N(S)| \\geq |S|$, thus we know that \n",
    "\\begin{equation*}\n",
    "    \\mathrm{def}_{max} \n",
    "    = \\max_{X \\subseteq A} \\mathrm{def} (X) \n",
    "    = \\max_{X \\subseteq A} ( |X| - |N(X)| )\n",
    "    = 0\n",
    "\\end{equation*}\n",
    "because $|X| - |N(X)| \\leq 0$ for all $X \\subseteq A$. Therefore, given the premise in the Hall's Theorem, we know that the maximum size of a matching in the specific bipartite graph equals $|A| - 0 = |A|$. \n",
    "\n",
    "Now we prove our claim. \n",
    "\n",
    "Consider \n",
    "\\begin{equation*}\n",
    "    X' = \\argmax_{X \\subseteq A} \\mathrm{def}(X)\n",
    "\\end{equation*}\n",
    "We know that this is the subset of $A$ such that $|X| - |N(X)|$ is at its maximum value. By Konig's theorem, we know that for the set\n",
    "\\begin{equation*} \n",
    "    X' \\sqcup N(X') \n",
    "\\end{equation*}\n",
    "it has a minimum vertex cover of size $|N(X')|$, thus has a maximum matching of size $|N(X')|$. This implies that there are $\\mathrm{def}(X')$ many vertices that are not covered by the matching. Therefore, we have \n",
    "\\begin{equation*}\n",
    "    \\text{maximum size of a matching} \\leq |A| - \\mathrm{def}_{max}\n",
    "\\end{equation*}\n",
    "The other side of the ineuqality is straight foward because if not, then our choice of $X'$ is not optimal. contradicting the definition of $X'$. \n",
    "\n",
    "Remark: I think this should be wrong. \n",
    "\n",
    "2. \n",
    "\n",
    "For any 2 subsets $X, Y \\subseteq A$, we know that \n",
    "\\begin{equation*}   \n",
    "    N(X \\cup Y) = N(X) \\cup N(Y)\n",
    "    \\qquad \\text{ and } \\qquad \n",
    "    N(X \\cap Y) \\leq N(X) \\cap N(Y)\n",
    "\\end{equation*}\n",
    "because we know that $N(X \\cap Y) \\subseteq N(X) \\cap N(Y)$. Hence we know that \n",
    "\\begin{align}\n",
    "    \\mathrm{def}(X \\cup Y) + \\mathrm{def}(X \\cap Y)\n",
    "    & = |X \\cup Y| - |N(X \\cup Y)| + |X \\cap Y| - |N(X \\cap Y)| \\notag \\\\\n",
    "    & = |X \\cup Y| + |X \\cap Y| - (|N(X \\cup Y)| + |N(X \\cap Y)|) \\notag \\\\ \n",
    "    & \\geq |X \\cup Y| + |X \\cap Y| - (|N(X) \\cup N(Y)| + |N(X) \\cap N(Y)|) \\notag \\\\\n",
    "    & = |X| + |Y| - (|N(X)| + |N(Y)|) \\notag \\\\ \n",
    "    & = \\mathrm{def}(X) + \\mathrm{def}(Y) \\notag\n",
    "\\end{align}\n",
    "as desired. "
   ]
  },
  {
   "cell_type": "markdown",
   "metadata": {},
   "source": [
    "- - - "
   ]
  },
  {
   "cell_type": "markdown",
   "metadata": {},
   "source": [
    "\n",
    "# Minimum Weight Perfect Matching"
   ]
  },
  {
   "cell_type": "markdown",
   "metadata": {},
   "source": [
    "One can formulate the minimum weight perfect matching problem as follows:\n",
    "\\begin{align*}\n",
    "    \\min \\qquad & \\;\\; \\sum_{i,j} c_{ij} x_{ij} \\\\ \n",
    "    \\text{s.t.} \\qquad & \\begin{array}{l l}\n",
    "        \\sum_j x_{ij} = 1 & i \\in A \\\\ \n",
    "        \\sum_i x_{ij} = 1 & j \\in B \\\\ \n",
    "        x_{ij} \\geq 0 & i \\in A, j \\in B \\\\ \n",
    "        x_{ij} \\in \\mathbb{Z} & i \\in A, j \\in B\n",
    "    \\end{array} \\tag{MWPM}\n",
    "\\end{align*} \n",
    "the first and second constraints are making sure that each vertex is incident to at least and up to one edge, which is necessary (and of course, sufficient) in a matching, the third and fourth constraints are meant to restrict each incidence vector to be either 0 or 1. \n",
    "\n",
    "The LP relaxation is in the form of \n",
    "\\begin{align*}\n",
    "    \\min \\qquad & \\;\\; \\sum_{i,j} c_{ij} x_{ij} \\\\ \n",
    "    \\text{s.t.} \\qquad & \\begin{array}{l l}\n",
    "        \\sum_j x_{ij} = 1 & i \\in A \\\\ \n",
    "        \\sum_i x_{ij} = 1 & j \\in B \\\\ \n",
    "        x_{ij} \\geq 0 & i \\in A, j \\in B \n",
    "    \\end{array} \n",
    "    \\tag{P}\n",
    "\\end{align*} \n",
    "Because of the reason that the LP relaxation is less constrained, we know that we have \n",
    "\\begin{equation*}\n",
    "    Z_{IP} \\geq Z_{LP}\n",
    "\\end{equation*}"
   ]
  },
  {
   "cell_type": "markdown",
   "metadata": {},
   "source": [
    "#### Exercise 1-9\n",
    "\n",
    "We know that $IP \\subseteq LP$, so we must have $Z_{IP} \\leq Z_{LP}$, which proves that \n",
    "\\begin{equation*}\n",
    "    Z_{IP} = Z_{LP}\n",
    "\\end{equation*}"
   ]
  },
  {
   "cell_type": "markdown",
   "metadata": {},
   "source": [
    "#### Exercise 1-10\n",
    "\n",
    "To give an example of an integer program where $Z_{IP} \\neq Z_{LP}$, consider the IP:\n",
    "\\begin{align*}\n",
    "    \\min \\qquad & x \\\\ \n",
    "    \\text{s.t.} \\qquad & x \\geq \\pi \\\\\n",
    "    & x \\in \\mathbb{Z}\n",
    "    \\tag{IP}\n",
    "\\end{align*}\n",
    "and its LP relaxation: \n",
    "\\begin{align*}\n",
    "    \\min \\qquad & x \\\\ \n",
    "    \\text{s.t.} \\qquad & x \\geq \\pi \n",
    "    \\tag{LP relaxation}\n",
    "\\end{align*}\n",
    "It is clear that $Z_{IP} \\neq Z_{LP}$. "
   ]
  },
  {
   "cell_type": "markdown",
   "metadata": {},
   "source": [
    "#### Theorem: ***Any extreme point of (P) is a 0-1 vector and, hence, is the incidence vector of a bipartite matching.***"
   ]
  },
  {
   "cell_type": "markdown",
   "metadata": {},
   "source": [
    "#### Definition: \"<font color=pink>bipartite perfect matching polytope</font>\"\n",
    "\n",
    "As a consequence of the above theorem, the polytope \n",
    "\\begin{equation*}\n",
    "    P = \\left\\{ x : \\quad \\begin{array}{llll} \n",
    "        \\sum_j x_{ij} = 1 & & & i \\in A \\\\ \n",
    "        \\sum_i x_{ij} = 1 & & & j \\in B \\\\ \n",
    "        x_{ij} \\geq 0 & & & i \\in A, j \\in B \n",
    "    \\end{array} \\right\\}\n",
    "\\end{equation*}\n",
    "is called the _bipartite perfect matching polytope_. "
   ]
  },
  {
   "cell_type": "markdown",
   "metadata": {},
   "source": [
    "### <font color=orange>Algorithmic proof of the above result</font>\n",
    "\n",
    "Consider the dual of (P): \n",
    "\\begin{align*}\n",
    "    \\max \\qquad & \\sum_{i \\in A} u_i + \\sum_{j \\in B} v_j \\\\ \n",
    "    \\text{s.t.} \\qquad & u_i + v_j \\leq c_{ij} & i \\in A, j \\in B\n",
    "\\end{align*}\n",
    "Here is the algorithm: \n",
    "\n",
    "It first starts with any dual feasible solution, say $u_i = 0$ for all $i$ and $v_j = \\min_i c_{ij}$ for all $j$. In a given iteration, the algorithm has a dual feasible solution $(u, v)$ or say $(u, v, w)$ where $w$ is defined by \n",
    "\\begin{equation*}\n",
    "    w_{ij} := c_{ij} - u_i - v_j\n",
    "\\end{equation*}\n",
    "We impose Complementary Slackness, which means that we are interested in matchings which are subgraphs of \n",
    "\\begin{equation*}\n",
    "    E = \\{ (i, j) : w_{ij} = 0 \\} \n",
    "\\end{equation*}\n",
    "If $E$ has a perfect matching then the incidence vector of that matching is a feasible solution in (P) and satisifes CS with the current dual solution and, hence, must be optimal. \n",
    "\n",
    "If the maximum matching output is not perfect, then the algorithm will use info from the optimum vertex cover $C^*$ to update the dual solution in such a way that the value of the dual solution increases. \n",
    "\n",
    "In particular, recall the definition of $L$ being the set of vertices that can be reached by a directed edge from an exposed vertex in $A$. Then there is no edge of $E$ between $A \\cap L$ and $B - L$. In other words, for every $i \\in (A \\cap L)$ and every $j \\in (B - L)$, we have $w_{ij} > 0$. Let \n",
    "\\begin{equation*}\n",
    "    \\delta = \\min_{i \\in (A \\cap L), j \\in (B-L)} w_{ij} = \\min c_{ij} - u_i - v_j\n",
    "\\end{equation*}\n",
    "By the above argument, we know that $\\delta > 0$. We update the dual solution as follows: \n",
    "\\begin{align*}\n",
    "    u_i & =\n",
    "    \\begin{cases}\n",
    "        u_i & i \\in A - L \\\\ u_i + \\delta & i \\in A \\cap L\n",
    "    \\end{cases} \\\\ \n",
    "    v_j & = \n",
    "    \\begin{cases}\n",
    "        v_j & j \\in B - L \\\\ v_j - \\delta & j \\in B \\cap L\n",
    "    \\end{cases}\n",
    "\\end{align*}\n",
    "One can easily check that this dual solution is feasible, in the sense that the corresponding vector $w$ satiesfies $w_{ij} \\geq 0$ for all $i$ and $j$. \n",
    "\n",
    "The difference between the new dual solution and the old dual solution is equal to \n",
    "\\begin{align*}\n",
    "    \\delta (|A \\cap L| - |B \\cap L|) \n",
    "    & = \\delta (|A \\cap L| + |A-L| - |A-L| - |B \\cap L|) \\\\ \n",
    "    & = \\delta \\left( \\frac{n}{2} - |C^*| \\right)\n",
    "\\end{align*}\n",
    "because $A$ has size $n/2$ and $C^*$ is teh optimum vertex cover. \n",
    "\n",
    "One repeats this procedure until the algorithm terminates. At that point, we have\n",
    "an incidence vector of a perfect matching and also a dual feasible solution which satisfy complementary slackness. They must therefore be optimal and this proves the existence of an _integral optimum_ solution to (P). Since, by carefully choosing the cost function, one can make any extreme point be the unique optimum solution to the linear program (will be formally proved later), this shows that any extreme point is integral and hence this proves the above theorem. \n",
    "\n",
    "<font color=yellow>The overall running time of this algorithm is O(n^4), where we need O(n^2) many iterations to find a perfect matching, and O(n^2) to compute the set L in each iteration.\n",
    "\n",
    "By ooking more closely at how vertices get labelled between two increases\n",
    "of the size of the matching, one can reduce the running time analysis to O(n^3)<font>"
   ]
  },
  {
   "cell_type": "markdown",
   "metadata": {},
   "source": [
    "#### Exercise 1-11"
   ]
  },
  {
   "cell_type": "markdown",
   "metadata": {},
   "source": [
    "#### Exercise 1-12\n",
    "\n",
    "1. \n",
    "\n",
    "2. \n",
    "\n",
    "For optional:\n",
    "\n",
    "In the case of a non-bipartite graph, $k$-regular does not imply the existence of a perfect matching. In particular, consider the graph of $C_3$, which is 2-regular but indeed does not have a perfect matching. "
   ]
  },
  {
   "cell_type": "markdown",
   "metadata": {},
   "source": [
    "#### Exercise 1-13\n",
    "\n",
    "Since we have shown that a $k$-regular bipartite graph $G = (V, E)$ has a perfect matching denoted as $M$, so we can obtain a graph $G_1 = (V, E-M)$. Easy to observe that $G_1$ is bipartite since $G$ is bipartite, and $G_1$ is $k-1$-regular since each vertex's degree is decreased by 1. As a result, by exercise 12 again we know that $G_1$ also attains a perfect matching. Repeat this process we may find $k$ perfect matchings and left with a graph $G_k = (V, \\varnothing)$. "
   ]
  },
  {
   "cell_type": "markdown",
   "metadata": {},
   "source": [
    "#### Exercise 1-14\n",
    "\n",
    "1. \n",
    "\n",
    "We can saturate the graph to be $\\Delta$-regular. Use exercise 13 to colour each matching a different colour, so we know that the edge colouring number is $\\leq \\Delta$. It is easy to see that it is also $\\geq \\Delta$. Hence we must have \n",
    "\\begin{align*}\n",
    "    \\text{edge colouring number } = \\Delta \n",
    "\\end{align*}\n",
    "as desired. \n",
    "\n",
    "2. We still consider $C_3$ which has an edge colouring number of 3. "
   ]
  },
  {
   "cell_type": "markdown",
   "metadata": {},
   "source": [
    "#### Exercise 1-15"
   ]
  },
  {
   "cell_type": "markdown",
   "metadata": {},
   "source": [
    "#### Exercise 1-17"
   ]
  },
  {
   "cell_type": "markdown",
   "metadata": {},
   "source": [
    "### <font color=orange>Algebraic proof of the above result</font>"
   ]
  },
  {
   "cell_type": "markdown",
   "metadata": {},
   "source": [
    "See more in the chapter on polyhedral theory. "
   ]
  }
 ],
 "metadata": {
  "kernelspec": {
   "display_name": ".venv",
   "language": "python",
   "name": "python3"
  },
  "language_info": {
   "name": "python",
   "version": "3.13.0"
  }
 },
 "nbformat": 4,
 "nbformat_minor": 2
}
