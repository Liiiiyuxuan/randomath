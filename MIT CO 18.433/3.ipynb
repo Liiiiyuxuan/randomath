{
 "cells": [
  {
   "cell_type": "code",
   "execution_count": null,
   "metadata": {
    "vscode": {
     "languageId": "plaintext"
    }
   },
   "outputs": [],
   "source": []
  },
  {
   "cell_type": "markdown",
   "metadata": {},
   "source": [
    "# Linear Programming and Polyhedral Combinatorics\n",
    "\n",
    "Dec 2024"
   ]
  },
  {
   "cell_type": "markdown",
   "metadata": {},
   "source": [
    "#### Definition: \n",
    "\n",
    "Given points $a^{(1)}, a^{(2)}, \\ldots, a^{(k)} \\in \\mathbb{R}^n$, we have the following definitions: \n",
    "\n",
    "1. A <font color=pink>linear combination</font> is $\\sum_i \\lambda_i a^{(i)}$ where $\\lambda_i \\in \\mathbb{R}$ for all $i$. \n",
    "\n",
    "2. A <font color=pink>affine combination</font> is $\\sum_i \\lambda_i a^{(i)}$ where $\\lambda_i \\in \\mathbb{R}$ for all $i$ and $\\sum_i \\lambda_i = 1$.\n",
    "\n",
    "3. A <font color=pink>conical combination</font> is $\\sum_i \\lambda_i a^{(i)}$ where $\\lambda_i \\geq 0$ for all $i$.  \n",
    "\n",
    "4. A <font color=pink>conical combination</font> is $\\sum_i \\lambda_i a^{(i)}$ where $\\lambda_i \\geq 0$ for all $i$ and $\\sum_i \\lambda_i = 1$. "
   ]
  },
  {
   "cell_type": "markdown",
   "metadata": {},
   "source": [
    "#### Definition: \n",
    "\n",
    "A _polytope_ is a bounded polyhedron $\\equiv$ A _polytope_ is the convex hull of a finite set of points. "
   ]
  },
  {
   "cell_type": "markdown",
   "metadata": {},
   "source": [
    "### 3.1 Solvability of System of Inequalities\n",
    "\n",
    "#### Theorem (<font color=pink>Theorem of the Alternatives</font>): ***$Ax \\leq b$ has no solution $x \\in \\mathbb{R}^n$ if and only if there exists $y \\in \\mathbb{R}^m$ such that $y \\geq 0$, $y^T A = 0$ and $y^T b < 0$.***"
   ]
  },
  {
   "cell_type": "markdown",
   "metadata": {},
   "source": [
    "#### Lemma (<font color=pink>Farka's Lemma</font>): ***$Ax = b$, $x \\geq 0$ has no solution if and only if there exists $y$ with $y^T A \\geq 0$ and $y^T b < 0$.***"
   ]
  },
  {
   "cell_type": "markdown",
   "metadata": {},
   "source": [
    "#### Exercise 3-1 \n",
    "\n",
    "> $[\\Longleftarrow]$\n",
    "\n",
    "SFAC that there exists $x$ satisfying $Ax = b$ and $x \\geq 0$, so \n",
    "\\begin{align*}\n",
    "    0 \\leq y^T A x = y^T b < 0\n",
    "\\end{align*}\n",
    "which is a contradiction. \n",
    "\n",
    "> $[\\Longrightarrow]$\n",
    "\n",
    "We can rewrite the polyhedron as \n",
    "\\begin{align*}\n",
    "    \\begin{pmatrix} \n",
    "        A \\\\ - A \\\\ - I \n",
    "    \\end{pmatrix} x \\leq \\begin{pmatrix} \n",
    "        b \\\\ - b \\\\ 0\n",
    "    \\end{pmatrix}\n",
    "\\end{align*}\n",
    "Given the premise that there is no solution, by the Theorem of the Alternatives, we know that there exists $\\begin{pmatrix} y_1 \\\\ y_2 \\\\ y_3 \\end{pmatrix}$ such that $y_1, y_2, y_3 \\geq 0$ and \n",
    "\\begin{align*} \n",
    "    y_1^T A - y_2^T A - y_3^T I = 0 \\qquad \\text{ and } \\qquad y_1^T b - y_2^T b < 0\n",
    "\\end{align*}\n",
    "Hence we can take $y = y_1 - y_2$. "
   ]
  },
  {
   "cell_type": "markdown",
   "metadata": {},
   "source": [
    "#### Exercise 3-2 \n",
    "\n",
    "Easy to see. "
   ]
  },
  {
   "cell_type": "markdown",
   "metadata": {},
   "source": [
    "#### Exercise 3-3 \n",
    "\n",
    "Given that the primal is feasible and the dual is infeasible. SFAC that there exists an optimal solution $x^*$ for the dual. Since the dual is infeasible, i.e. \n",
    "\\begin{align*}\n",
    "    D = \\left\\{ \\begin{array}{rl} \n",
    "        A^T y & = c \\\\ y & \\geq 0 \n",
    "    \\end{array} \\right\\} = \\varnothing\n",
    "\\end{align*}\n",
    "Hence by Farka's Lemma, there exists $u$ such that \n",
    "\\begin{align*}\n",
    "    \\begin{array}{rl} \n",
    "        u^T A^T & \\geq 0 \\\\ u^T c & < 0\n",
    "    \\end{array} \\quad \\Leftrightarrow \\quad \\exists \\; u \\text{ s.t. } \n",
    "    \\begin{array}{rl} \n",
    "        A u & \\geq 0 \\\\ c^T u & < 0\n",
    "    \\end{array} \\quad \\Leftrightarrow \\quad \\exists \\; d \\text{ s.t. } \n",
    "    \\begin{array}{rl} \n",
    "        A u & \\leq 0 \\\\ c^T d & > 0\n",
    "    \\end{array}\n",
    "\\end{align*}\n",
    "Hence we have $x^* + d$ is still feasible but has a greater objective value, contradicting the fact that primal is bounded. "
   ]
  },
  {
   "cell_type": "markdown",
   "metadata": {},
   "source": [
    "#### Theorem (<font color=pink>Complementary Slackness</font>)"
   ]
  },
  {
   "cell_type": "markdown",
   "metadata": {},
   "source": [
    "- - -"
   ]
  },
  {
   "cell_type": "markdown",
   "metadata": {},
   "source": [
    "### 3.3 Faces of Polyhedra "
   ]
  },
  {
   "cell_type": "markdown",
   "metadata": {},
   "source": [
    "#### Definition: <font color=pink>Linear independence</font>\n",
    "\n",
    "$\\{ a^{(i)} \\in \\mathbb{R}^n : i \\in K \\}$ are linearly independent if $\\sum_i \\lambda_i a^{(i)} = 0$ implies that $\\lambda_i = 0$ for all $i \\in K$. "
   ]
  },
  {
   "cell_type": "markdown",
   "metadata": {},
   "source": [
    "#### Definition: <font color=pink>Affine independence</font>\n",
    "\n",
    "$\\{ a^{(i)} \\in \\mathbb{R}^n : i \\in K \\}$ are affinely independent if $\\sum_i \\lambda_i a^{(i)} = 0$ and $\\sum_i \\lambda_i = 0$ together imply that $\\lambda_i = 0$ for all $i \\in K$. "
   ]
  },
  {
   "cell_type": "markdown",
   "metadata": {},
   "source": [
    "#### Remark: \n",
    "\n",
    "Notice that for $\\{ a^{(i)} \\in \\mathbb{R}^n : i \\in K \\}$ to be affinely independent, we have $\\sum_i \\lambda_i a^{(i)} = 0$ and $\\sum_i \\lambda_i = 0$ implies $\\lambda_i = 0$ for all $i$, this tells us that \n",
    "\\begin{align*}\n",
    "    \\sum_i \\lambda_i \\begin{bmatrix} \n",
    "        a^{(i)} \\\\ 1\n",
    "    \\end{bmatrix} = 0 \n",
    "\\end{align*}\n",
    "implies that $\\lambda_i = 0$ for all $i$, which further suggests that the set of vectors \n",
    "\\begin{align*}\n",
    "    \\left\\{ \\begin{bmatrix} \n",
    "        \\;\\; a^{(i)} \\;\\; \\\\ 1\n",
    "    \\end{bmatrix} \\in \\mathbb{R}^{n+1} : i \\in K \\right\\}\n",
    "\\end{align*}\n",
    "are linearly independent. "
   ]
  },
  {
   "cell_type": "markdown",
   "metadata": {},
   "source": [
    "##### Definition: <font color=pink>Dimention</font>\n",
    "\n",
    "The dimensiob, $\\dim(P)$, of a polyhedron $P$ is the maximum number of affinely independent points in $P$ minus 1. "
   ]
  },
  {
   "cell_type": "markdown",
   "metadata": {},
   "source": [
    "#### Exercise 3-4\n",
    "\n",
    "To list all 28 faces of the cube $P = \\{ x \\in \\mathbb{R}^3 : 0 \\leq x_i \\leq 1 \\text{ for } i = 1, 2, 3 \\}$, we notice that \n",
    "\\begin{align*}\n",
    "    6 + 12 + 8 = 26\n",
    "\\end{align*}"
   ]
  },
  {
   "cell_type": "markdown",
   "metadata": {},
   "source": [
    "- - -"
   ]
  },
  {
   "cell_type": "markdown",
   "metadata": {},
   "source": [
    "#### Theorem: ***Let $A \\in \\mathbb{R}^{m \\times n}$, then any non-empty face of $P = \\{ x \\in \\mathbb{R}^n : Ax \\leq b \\}$ corresponds to the set of solutions to***\n",
    "\n",
    "\\begin{align*}\n",
    "    \\sum_j a_{ij} x_j & = b_i \\qquad \\text{ for all } i \\in I \\\\ \n",
    "    \\sum_j a_{ij} x_j & \\leq b_i \\qquad \\text{ for all } i \\notin I \n",
    "\\end{align*}\n",
    "***for some set $I \\subseteq \\{1, \\ldots, m\\}$***. \n",
    "\n",
    "<font color=yellow>Therefore, the number of non-empty faces of $P$ is at most $2^m$.</font> This is because \n",
    "\\begin{align*}\n",
    "    \\sum_{i = 0}^m \\binom{m}{i} = 2^m\n",
    "\\end{align*}"
   ]
  },
  {
   "cell_type": "markdown",
   "metadata": {},
   "source": [
    "#### Exercise 3-5 \n",
    "\n",
    "$2^n$ non-empty faces and one extra face correspond to the empty face. "
   ]
  },
  {
   "cell_type": "markdown",
   "metadata": {},
   "source": [
    "#### Theorem: ***Let $x^*$ be an extreme point for $P = \\{x : Ax \\leq b\\}$, then there exists $I$ such that $x^*$ is the unique solution to***\n",
    "\n",
    "\\begin{align*}\n",
    "    \\sum_j a_{ij} x_j = b_i \\qquad \\text{ for all } i \\in I \n",
    "\\end{align*}"
   ]
  }
 ],
 "metadata": {
  "language_info": {
   "name": "python"
  }
 },
 "nbformat": 4,
 "nbformat_minor": 2
}
