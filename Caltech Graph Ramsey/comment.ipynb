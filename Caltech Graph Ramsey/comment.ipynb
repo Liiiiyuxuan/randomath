{
 "cells": [
  {
   "cell_type": "markdown",
   "metadata": {},
   "source": [
    "## Lecture 1"
   ]
  },
  {
   "cell_type": "markdown",
   "metadata": {},
   "source": [
    "### Lemma 1 \n",
    "\n",
    "In the proof of Lemma 1, in the first sentence, it should be \n",
    "\n",
    "> Suppose that the edges of Kn have been 2-coloured, in red and blue, say, so that there is no red clique of size <font color=yellow>$s+1$</font> and no blue clique of size <font color=yellow>$t+1$</font>."
   ]
  },
  {
   "cell_type": "markdown",
   "metadata": {},
   "source": [
    "### Corollary 3\n",
    "\n",
    "In the formula \n",
    "\\begin{align*}\n",
    "    \\frac{1}{3} \\binom{n}{2} ( r(t, t-2) - 1 )\n",
    "\\end{align*}\n",
    "the number $\\displaystyle \\binom{n}{2}$ is the number of ways choosing an edge to fix a colour and $r(t, t-2) - 1$ is the number of ways choosing the third vertex such that we have a monochromatic triangle. The reason we divide it by 3 is that each triangle is counted three times this way. \n",
    "\n",
    "The following is the simplification omitted from the proof \n",
    "\\begin{align*}  \n",
    "    \\frac{1}{4} \\frac{n (n-1) (n-5)}{6} & \\leq \\frac{1}{3} \\binom{n}{2} ( r(t, t-2) - 1 ) \\\\ \n",
    "    \\frac{1}{4} \\frac{n (n-1) (n-5)}{6} & \\leq \\frac{1}{3} \\frac{n (n-1)}{2} ( r(t, t-2) - 1 ) \\\\ \n",
    "    \\frac{(n-5)}{4} & \\leq ( r(t, t-2) - 1 ) \\\\ \n",
    "    n & \\leq 4 r(t, t-2) + 1\n",
    "\\end{align*}"
   ]
  },
  {
   "cell_type": "markdown",
   "metadata": {},
   "source": [
    "## Lecture 2"
   ]
  },
  {
   "cell_type": "markdown",
   "metadata": {},
   "source": [
    "### Theorem 1 \n",
    "\n",
    "The probability of a subgraph $K_t$ is monochromatic is given by \n",
    "\\begin{align*}\n",
    "    2 \\cdot \\frac{1}{2^{\\binom{t}{2}}}\n",
    "\\end{align*}\n",
    "where $\\displaystyle 2^{\\binom{t}{2}}$ is the number of edges in $K_t$ and 2 is the number of colours it could be. Since there are $\\displaystyle \\binom{n}{t}$ ways of choosing a subgraph $K_t$, so the expected number of monochromatic cliques $K_t$ is given by \n",
    "\\begin{align*}\n",
    "    2 \\cdot \\frac{1}{2^{\\binom{t}{2}}} \\cdot \\binom{n}{t}\n",
    "\\end{align*}"
   ]
  },
  {
   "cell_type": "markdown",
   "metadata": {},
   "source": [
    "### Theorem 3\n",
    "\n",
    "We know that the expected number of red $K_s$ is given by \n",
    "\\begin{align*}\n",
    "    p^{\\binom{s}{2}} \\binom{N}{s} \\leq p^{\\binom{s}{2}} N^2\n",
    "\\end{align*}\n",
    "which is how we obtained the bound. "
   ]
  }
 ],
 "metadata": {
  "language_info": {
   "name": "python"
  }
 },
 "nbformat": 4,
 "nbformat_minor": 2
}
