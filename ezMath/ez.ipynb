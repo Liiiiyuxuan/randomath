{
 "cells": [
  {
   "cell_type": "markdown",
   "metadata": {},
   "source": [
    "See more at https://www.zhihu.com/question/447601758/answer/2656622096"
   ]
  },
  {
   "cell_type": "markdown",
   "metadata": {},
   "source": [
    "See the latex pdf for translations of all the problems. "
   ]
  }
 ],
 "metadata": {
  "language_info": {
   "name": "python"
  }
 },
 "nbformat": 4,
 "nbformat_minor": 2
}
